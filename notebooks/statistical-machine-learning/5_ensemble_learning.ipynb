{
 "cells": [
  {
   "cell_type": "markdown",
   "id": "fab18e9d-83fb-44e0-9020-9f3bab78cedb",
   "metadata": {},
   "source": [
    "### <div align=\"center\">Ensemble Learning - Classification</div>"
   ]
  },
  {
   "cell_type": "markdown",
   "id": "b86ee06c-4611-4460-9765-575c39d3d1eb",
   "metadata": {},
   "source": [
    "##### 5.1: What is Ensemble Learning ?\n",
    "- Ensemble learning is a strategy in machine learning where we join predictions from several models. This approach helps us get a more precise and resilient forecast. \n",
    "- It can be achieved using any of the techniques below\n",
    "  - Basic Techniques:\n",
    "    1. Majority Vote\n",
    "    2. Average\n",
    "    3. Weighted Average\n",
    "  - Advanced Techniques:\n",
    "    1. Bagging\n",
    "    2. Boosting\n",
    "    3. Stacking"
   ]
  },
  {
   "cell_type": "markdown",
   "id": "dec87bab-0ebe-436f-b826-120deca0de25",
   "metadata": {},
   "source": [
    "##### 5.2: Majority Voting, Average and Weighted Average\n",
    "- The voting classifier (sklearn.ensemble.VotingClassifier) typically employs the \"hard\" method, which is based on majority rule voting. However, for classifiers that are well-calibrated, the \"soft\" method is suggested. This method determines class labels according to the argmax of the predicted probabilities.\n",
    "- In weighted average, we can provide the more weight to trusted model and calculate the vote.\n",
    "- The Voting Regressor method will be used for regression, just as the Voting Classifier demonstrated for classification in the video."
   ]
  },
  {
   "cell_type": "markdown",
   "id": "6363db38-4bb2-4f4d-bed5-de18217434cd",
   "metadata": {},
   "source": [
    "##### 5.3: Bagging\n",
    "- Bagging in ensemble learning is a technique where paralelly multiple models are trained on random subsets of the training data and their predictions are aggregated to improve accuracy and reduce variance.\n",
    "- Random sampling with replacement is also called bootstrapping.\n",
    "- Each model in ensemble learning is called a Base learner.\n",
    "- Bagging is also known as bootstrap aggregating.\n",
    "- Benefit of bagging\n",
    "  - Robust against Outliers (Since it is an aggregated sum of base learner).\n",
    "  - Reduction in Variance (May be one or two model will be overfit but still due to aggregated value variance will be less).\n",
    "  - A good way to handle high dimensional (More feature).\n",
    "  - Improved Accuracy (Due to wisdom of croud)."
   ]
  },
  {
   "cell_type": "markdown",
   "id": "725575a1-8641-4f6a-a6f0-8318f629bbb7",
   "metadata": {},
   "source": [
    "##### 5.4: Bagging - Random Forest\n",
    "- Random forest stands as one of the two key algorithms in Machine Learning.\n",
    "- A random forest is a learning method that constructs multiple decision trees on random data subsets and features during the training phase, delivering the class that represents the mode of the classes or the average prediction of the individual trees.\n",
    "- In random forest we do row and column sampling (For each model we can choose random column/feature).\n",
    "- The use of random forest provides a unique perspective on the data, enhancing the robustness of your model.\n",
    "##### 5.5: Random Forest - Raisin Classification\n",
    "- Random Forest is versatile, suitable for both classification and regression tasks.\n",
    "- All models in the Random Forest share the same decision tree criterion.\n",
    "- Depending on the specific use case or scenario, parameters and arguments can be adjusted for optimal model performance."
   ]
  },
  {
   "cell_type": "markdown",
   "id": "bafa96b1-7fe5-431c-8cbb-afccfbb00d98",
   "metadata": {},
   "source": [
    "##### 5.8: Boosting - AdaBoost\n",
    "- Boosting in machine learning is a sequential process where multiple models, typically weak learners, are trained one after the other, with each model building upon the errors of its predecessor to improve overall accuracy and form a strong predictive model.\n",
    "- Different Boosting Techniques:\n",
    "  - AdaBoost\n",
    "  - Gradient Boost\n",
    "  - XGBoost (eXtreme Gradient Boosting)\n",
    "  - LightGBM\n",
    "  - CatBoost\n",
    "- A Decision Stump is a tree that has one root node and two child nodes.\n",
    "- AdaBoost is a machine learning algorithm that adjusts training instances’ weights based on prior models’ errors. It emphasizes wrongly predicted instances, increases their weights, and enhances the ensemble’s overall accuracy.\n",
    "- class sklearn.ensemble.AdaBoostClassifier(estimator=None, n_estimators=50, learning_rate=1.0, algorithm='SAMME.R', random_state=None)\n",
    "- Formulas Used:\n",
    "  - Total Error – It is a sum of the weight of all the incorrect predictions\n",
    "  - Amount of Say (α) = (½) log ( (1 - error) / error )\n",
    "  - Correct Prediction → New weight = old weight × e^(–α)\n",
    "  - Incorrect Prediction → New weight = old weight × e^(α)"
   ]
  },
  {
   "cell_type": "markdown",
   "id": "73972703-9124-44af-936c-1e8b3a873ac4",
   "metadata": {},
   "source": [
    "##### 5.9: Gradient Boosting: Regression Walk Through\n",
    "- Gradient boosting is an ensemble machine learning technique that iteratively trains decision trees on residual errors, combining them with a learning rate to improve model accuracy progressively.\n",
    "- Gradient Boost is the sequence of weak learner and the first week learner is the mean called prediction.\n",
    "- Residual = Actual - Predicted (mean) \n",
    "- The residuals can be referred to as pseudo-residuals.\n",
    "- Fₖ(x) = F₀(x) + Learning Rate * PR1 + Learning Rate * PR2 + ….. + Learning Rate * PRK\n",
    "- n_estimators is equal to no of weak learners in parameter."
   ]
  },
  {
   "cell_type": "markdown",
   "id": "773ed042-9bf7-4211-a646-fc8eca01a889",
   "metadata": {},
   "source": [
    "##### 5.14: Gradient Boosting: Classification\n",
    "- In Regression we use loss function as Mean Squared Error and in Classification we use Logistic loss (Log loss).\n",
    "- Gradient Boosting applies a similar method for both classification and regression, with the only difference being the loss function – Logistic Loss for classification and Mean Squared Error for regression.\n",
    "- When contrasted with a decision tree or random forest, gradient boosting has a slight edge in terms of performance and overall prediction accuracy."
   ]
  },
  {
   "cell_type": "markdown",
   "id": "73d73cab-12ba-4656-a3ad-910bf74b1365",
   "metadata": {},
   "source": [
    "<h3 align=\"center\">Gradient Boosting Classifier: Titanic Survival</h3>"
   ]
  },
  {
   "cell_type": "code",
   "execution_count": 2,
   "id": "2d6fe09a-f3b3-4ee9-8bec-a22ea9bebe7f",
   "metadata": {},
   "outputs": [
    {
     "data": {
      "text/html": [
       "<div>\n",
       "<style scoped>\n",
       "    .dataframe tbody tr th:only-of-type {\n",
       "        vertical-align: middle;\n",
       "    }\n",
       "\n",
       "    .dataframe tbody tr th {\n",
       "        vertical-align: top;\n",
       "    }\n",
       "\n",
       "    .dataframe thead th {\n",
       "        text-align: right;\n",
       "    }\n",
       "</style>\n",
       "<table border=\"1\" class=\"dataframe\">\n",
       "  <thead>\n",
       "    <tr style=\"text-align: right;\">\n",
       "      <th></th>\n",
       "      <th>Survived</th>\n",
       "      <th>Pclass</th>\n",
       "      <th>Name</th>\n",
       "      <th>Sex</th>\n",
       "      <th>Age</th>\n",
       "      <th>Siblings/Spouses Aboard</th>\n",
       "      <th>Parents/Children Aboard</th>\n",
       "      <th>Fare</th>\n",
       "    </tr>\n",
       "  </thead>\n",
       "  <tbody>\n",
       "    <tr>\n",
       "      <th>0</th>\n",
       "      <td>0</td>\n",
       "      <td>3</td>\n",
       "      <td>Mr. Owen Harris Braund</td>\n",
       "      <td>male</td>\n",
       "      <td>22.0</td>\n",
       "      <td>1</td>\n",
       "      <td>0</td>\n",
       "      <td>7.2500</td>\n",
       "    </tr>\n",
       "    <tr>\n",
       "      <th>1</th>\n",
       "      <td>1</td>\n",
       "      <td>1</td>\n",
       "      <td>Mrs. John Bradley (Florence Briggs Thayer) Cum...</td>\n",
       "      <td>female</td>\n",
       "      <td>38.0</td>\n",
       "      <td>1</td>\n",
       "      <td>0</td>\n",
       "      <td>71.2833</td>\n",
       "    </tr>\n",
       "    <tr>\n",
       "      <th>2</th>\n",
       "      <td>1</td>\n",
       "      <td>3</td>\n",
       "      <td>Miss. Laina Heikkinen</td>\n",
       "      <td>female</td>\n",
       "      <td>26.0</td>\n",
       "      <td>0</td>\n",
       "      <td>0</td>\n",
       "      <td>7.9250</td>\n",
       "    </tr>\n",
       "    <tr>\n",
       "      <th>3</th>\n",
       "      <td>1</td>\n",
       "      <td>1</td>\n",
       "      <td>Mrs. Jacques Heath (Lily May Peel) Futrelle</td>\n",
       "      <td>female</td>\n",
       "      <td>35.0</td>\n",
       "      <td>1</td>\n",
       "      <td>0</td>\n",
       "      <td>53.1000</td>\n",
       "    </tr>\n",
       "    <tr>\n",
       "      <th>4</th>\n",
       "      <td>0</td>\n",
       "      <td>3</td>\n",
       "      <td>Mr. William Henry Allen</td>\n",
       "      <td>male</td>\n",
       "      <td>35.0</td>\n",
       "      <td>0</td>\n",
       "      <td>0</td>\n",
       "      <td>8.0500</td>\n",
       "    </tr>\n",
       "  </tbody>\n",
       "</table>\n",
       "</div>"
      ],
      "text/plain": [
       "   Survived  Pclass                                               Name  \\\n",
       "0         0       3                             Mr. Owen Harris Braund   \n",
       "1         1       1  Mrs. John Bradley (Florence Briggs Thayer) Cum...   \n",
       "2         1       3                              Miss. Laina Heikkinen   \n",
       "3         1       1        Mrs. Jacques Heath (Lily May Peel) Futrelle   \n",
       "4         0       3                            Mr. William Henry Allen   \n",
       "\n",
       "      Sex   Age  Siblings/Spouses Aboard  Parents/Children Aboard     Fare  \n",
       "0    male  22.0                        1                        0   7.2500  \n",
       "1  female  38.0                        1                        0  71.2833  \n",
       "2  female  26.0                        0                        0   7.9250  \n",
       "3  female  35.0                        1                        0  53.1000  \n",
       "4    male  35.0                        0                        0   8.0500  "
      ]
     },
     "execution_count": 2,
     "metadata": {},
     "output_type": "execute_result"
    }
   ],
   "source": [
    "# Load Data\n",
    "#Dataset Citation: This dataset was downloaded from standford university website. \n",
    "\n",
    "import pandas as pd\n",
    "\n",
    "# df = pd.read_csv(\"https://web.stanford.edu/class/archive/cs/cs109/cs109.1166/stuff/titanic.csv\")\n",
    "df = pd.read_csv(\"../data/titanic.csv\")\n",
    "df.head()"
   ]
  },
  {
   "cell_type": "code",
   "execution_count": 3,
   "id": "28e61148-2c65-4abe-a7a6-10fe513fb364",
   "metadata": {},
   "outputs": [
    {
     "data": {
      "text/plain": [
       "(887, 8)"
      ]
     },
     "execution_count": 3,
     "metadata": {},
     "output_type": "execute_result"
    }
   ],
   "source": [
    "df.shape"
   ]
  },
  {
   "cell_type": "code",
   "execution_count": 4,
   "id": "86a303ef-42fb-41fb-bd25-1ea06e03e067",
   "metadata": {},
   "outputs": [
    {
     "data": {
      "text/plain": [
       "Survived                   0\n",
       "Pclass                     0\n",
       "Name                       0\n",
       "Sex                        0\n",
       "Age                        0\n",
       "Siblings/Spouses Aboard    0\n",
       "Parents/Children Aboard    0\n",
       "Fare                       0\n",
       "dtype: int64"
      ]
     },
     "execution_count": 4,
     "metadata": {},
     "output_type": "execute_result"
    }
   ],
   "source": [
    "df.isnull().sum()"
   ]
  },
  {
   "cell_type": "code",
   "execution_count": 5,
   "id": "431d793b-816f-477d-8791-4d5acda05848",
   "metadata": {},
   "outputs": [
    {
     "data": {
      "text/html": [
       "<div>\n",
       "<style scoped>\n",
       "    .dataframe tbody tr th:only-of-type {\n",
       "        vertical-align: middle;\n",
       "    }\n",
       "\n",
       "    .dataframe tbody tr th {\n",
       "        vertical-align: top;\n",
       "    }\n",
       "\n",
       "    .dataframe thead th {\n",
       "        text-align: right;\n",
       "    }\n",
       "</style>\n",
       "<table border=\"1\" class=\"dataframe\">\n",
       "  <thead>\n",
       "    <tr style=\"text-align: right;\">\n",
       "      <th></th>\n",
       "      <th>Survived</th>\n",
       "      <th>Pclass</th>\n",
       "      <th>Name</th>\n",
       "      <th>Sex</th>\n",
       "      <th>Age</th>\n",
       "      <th>Siblings/Spouses Aboard</th>\n",
       "      <th>Parents/Children Aboard</th>\n",
       "      <th>Fare</th>\n",
       "    </tr>\n",
       "  </thead>\n",
       "  <tbody>\n",
       "    <tr>\n",
       "      <th>0</th>\n",
       "      <td>0</td>\n",
       "      <td>3</td>\n",
       "      <td>Mr. Owen Harris Braund</td>\n",
       "      <td>1</td>\n",
       "      <td>22.0</td>\n",
       "      <td>1</td>\n",
       "      <td>0</td>\n",
       "      <td>7.2500</td>\n",
       "    </tr>\n",
       "    <tr>\n",
       "      <th>1</th>\n",
       "      <td>1</td>\n",
       "      <td>1</td>\n",
       "      <td>Mrs. John Bradley (Florence Briggs Thayer) Cum...</td>\n",
       "      <td>2</td>\n",
       "      <td>38.0</td>\n",
       "      <td>1</td>\n",
       "      <td>0</td>\n",
       "      <td>71.2833</td>\n",
       "    </tr>\n",
       "    <tr>\n",
       "      <th>2</th>\n",
       "      <td>1</td>\n",
       "      <td>3</td>\n",
       "      <td>Miss. Laina Heikkinen</td>\n",
       "      <td>2</td>\n",
       "      <td>26.0</td>\n",
       "      <td>0</td>\n",
       "      <td>0</td>\n",
       "      <td>7.9250</td>\n",
       "    </tr>\n",
       "  </tbody>\n",
       "</table>\n",
       "</div>"
      ],
      "text/plain": [
       "   Survived  Pclass                                               Name  Sex  \\\n",
       "0         0       3                             Mr. Owen Harris Braund    1   \n",
       "1         1       1  Mrs. John Bradley (Florence Briggs Thayer) Cum...    2   \n",
       "2         1       3                              Miss. Laina Heikkinen    2   \n",
       "\n",
       "    Age  Siblings/Spouses Aboard  Parents/Children Aboard     Fare  \n",
       "0  22.0                        1                        0   7.2500  \n",
       "1  38.0                        1                        0  71.2833  \n",
       "2  26.0                        0                        0   7.9250  "
      ]
     },
     "execution_count": 5,
     "metadata": {},
     "output_type": "execute_result"
    }
   ],
   "source": [
    "df['Sex'] = df['Sex'].map({'male': 1,  'female': 2})\n",
    "df.head(3)"
   ]
  },
  {
   "cell_type": "code",
   "execution_count": 6,
   "id": "d8234c79-1be8-4376-ac78-256ee40106c4",
   "metadata": {},
   "outputs": [
    {
     "data": {
      "text/html": [
       "<div>\n",
       "<style scoped>\n",
       "    .dataframe tbody tr th:only-of-type {\n",
       "        vertical-align: middle;\n",
       "    }\n",
       "\n",
       "    .dataframe tbody tr th {\n",
       "        vertical-align: top;\n",
       "    }\n",
       "\n",
       "    .dataframe thead th {\n",
       "        text-align: right;\n",
       "    }\n",
       "</style>\n",
       "<table border=\"1\" class=\"dataframe\">\n",
       "  <thead>\n",
       "    <tr style=\"text-align: right;\">\n",
       "      <th></th>\n",
       "      <th>Survived</th>\n",
       "      <th>Pclass</th>\n",
       "      <th>Sex</th>\n",
       "      <th>Age</th>\n",
       "      <th>Siblings/Spouses Aboard</th>\n",
       "      <th>Parents/Children Aboard</th>\n",
       "      <th>Fare</th>\n",
       "    </tr>\n",
       "  </thead>\n",
       "  <tbody>\n",
       "    <tr>\n",
       "      <th>0</th>\n",
       "      <td>0</td>\n",
       "      <td>3</td>\n",
       "      <td>1</td>\n",
       "      <td>22.0</td>\n",
       "      <td>1</td>\n",
       "      <td>0</td>\n",
       "      <td>7.2500</td>\n",
       "    </tr>\n",
       "    <tr>\n",
       "      <th>1</th>\n",
       "      <td>1</td>\n",
       "      <td>1</td>\n",
       "      <td>2</td>\n",
       "      <td>38.0</td>\n",
       "      <td>1</td>\n",
       "      <td>0</td>\n",
       "      <td>71.2833</td>\n",
       "    </tr>\n",
       "    <tr>\n",
       "      <th>2</th>\n",
       "      <td>1</td>\n",
       "      <td>3</td>\n",
       "      <td>2</td>\n",
       "      <td>26.0</td>\n",
       "      <td>0</td>\n",
       "      <td>0</td>\n",
       "      <td>7.9250</td>\n",
       "    </tr>\n",
       "  </tbody>\n",
       "</table>\n",
       "</div>"
      ],
      "text/plain": [
       "   Survived  Pclass  Sex   Age  Siblings/Spouses Aboard  \\\n",
       "0         0       3    1  22.0                        1   \n",
       "1         1       1    2  38.0                        1   \n",
       "2         1       3    2  26.0                        0   \n",
       "\n",
       "   Parents/Children Aboard     Fare  \n",
       "0                        0   7.2500  \n",
       "1                        0  71.2833  \n",
       "2                        0   7.9250  "
      ]
     },
     "execution_count": 6,
     "metadata": {},
     "output_type": "execute_result"
    }
   ],
   "source": [
    "# drop Name column which is not useful in determining the survival rate\n",
    "df.drop(\"Name\", axis=\"columns\", inplace=True)\n",
    "df.head(3)"
   ]
  },
  {
   "cell_type": "code",
   "execution_count": 7,
   "id": "989e4592-418f-481e-842e-0d58ea58f6ef",
   "metadata": {},
   "outputs": [],
   "source": [
    "# Train Test Split\n",
    "from sklearn.model_selection import train_test_split\n",
    "from sklearn.metrics import classification_report, confusion_matrix\n",
    "\n",
    "X = df.drop('Survived',axis=\"columns\")\n",
    "y = df['Survived']\n",
    "\n",
    "X_train, X_test, y_train, y_test = train_test_split(X, y, test_size=0.3, random_state=42)"
   ]
  },
  {
   "cell_type": "code",
   "execution_count": 8,
   "id": "acce1948-7f3c-4fd3-928d-da5a9088fab9",
   "metadata": {},
   "outputs": [
    {
     "name": "stdout",
     "output_type": "stream",
     "text": [
      "              precision    recall  f1-score   support\n",
      "\n",
      "           0       0.82      0.82      0.82       166\n",
      "           1       0.71      0.71      0.71       101\n",
      "\n",
      "    accuracy                           0.78       267\n",
      "   macro avg       0.77      0.77      0.77       267\n",
      "weighted avg       0.78      0.78      0.78       267\n",
      "\n"
     ]
    }
   ],
   "source": [
    "# Model Training Using Decision Tree\n",
    "from sklearn.tree import DecisionTreeClassifier\n",
    "\n",
    "model = DecisionTreeClassifier()\n",
    "model.fit(X_train, y_train)\n",
    "\n",
    "y_pred = model.predict(X_test)\n",
    "report = classification_report(y_test, y_pred)\n",
    "print(report)"
   ]
  },
  {
   "cell_type": "code",
   "execution_count": 9,
   "id": "c2aaa8a1-20a0-40fe-a70c-b7f4487a7b63",
   "metadata": {},
   "outputs": [
    {
     "name": "stdout",
     "output_type": "stream",
     "text": [
      "              precision    recall  f1-score   support\n",
      "\n",
      "           0       0.82      0.91      0.86       166\n",
      "           1       0.82      0.67      0.74       101\n",
      "\n",
      "    accuracy                           0.82       267\n",
      "   macro avg       0.82      0.79      0.80       267\n",
      "weighted avg       0.82      0.82      0.82       267\n",
      "\n"
     ]
    }
   ],
   "source": [
    "# Model Training Using Gradient Boost\n",
    "from sklearn.ensemble import GradientBoostingClassifier\n",
    "\n",
    "model = GradientBoostingClassifier(n_estimators=100)\n",
    "model.fit(X_train, y_train)\n",
    "\n",
    "y_pred = model.predict(X_test)\n",
    "report = classification_report(y_test, y_pred)\n",
    "print(report)"
   ]
  },
  {
   "cell_type": "markdown",
   "id": "3640ecd9-bfbf-4477-89fe-9247bc95f1a7",
   "metadata": {},
   "source": [
    "If you compare classification report across decision tree, random forest and gradient boost, you will notice slight improvement in precision, recall and accuracy when we use gradient boosting"
   ]
  },
  {
   "cell_type": "markdown",
   "id": "6db55e3f-5f5d-4109-8193-3c66c1f7e460",
   "metadata": {},
   "source": [
    "##### 5.15: XGBoost - Walk Through\n",
    "- XGBoost is the Powerful and widely used statistical machine learning algorithm in industry.\n",
    "- XGBoost is a high-performance machine learning library that constructs decision trees using exact and approximate algorithms for split finding. It uses post-growth tree pruning to enhance model accuracy and scalability, particularly for large datasets, while minimizing over fitting.\n",
    "- Logistic regression is good when we have linear relationship between features and target variable where as XGBoost is tree based learning model and is good at capturing non linear relationship. It uses weak classifier (Wisdom of croud)."
   ]
  },
  {
   "cell_type": "markdown",
   "id": "d1682383-f685-462e-b201-d3dd6762bc66",
   "metadata": {},
   "source": [
    "##### 5.18: XGBoost - Benefits\n",
    "- High Accuracy\n",
    "  1. Better at modeling complex non-linear relationships due to tree-based learning and boosting approach.\n",
    "  2. In built regularization\n",
    "  3. Automatic Handling of missing values\n",
    "  4. Feature importance and selection\n",
    "- Very Fast\n",
    "  1. Tree Pruning\n",
    "  2. Block structure and parallel processing\n",
    "  3. Cache Awareness\n",
    "  4. Efficient Handling of Sparse Data"
   ]
  },
  {
   "cell_type": "markdown",
   "id": "bfd85c0a-3a4c-487f-a57c-39e8e5bf4a6d",
   "metadata": {},
   "source": [
    "### Problem Statement\n",
    "\n",
    "You are a data scientist / AI engineer working on a classification problem to predict the quality of milk. You have been provided with a dataset named **`\"milk_quality_data.csv\"`**, which includes various parameters that affect milk quality. The dataset comprises the following columns:\n",
    "\n",
    "- `ph:` The pH level of the milk.\n",
    "- `temperature:` The temperature of the milk.\n",
    "- `taste:` Whether the taste is good or bad (1 for good, 0 for bad).\n",
    "- `odor:` Whether the odor is good or bad (1 for good, 0 for bad).\n",
    "- `fat:` Whether the fat content is optimal or not (1 for optimal, 0 for not).\n",
    "- `turbidity:` Whether the turbidity is high or low (1 for high, 0 for low).\n",
    "- `colour:` The color value of the milk.\n",
    "- `grade:` The quality of the milk (low, medium, high).\n",
    "  \n",
    "Your task is to use this dataset to build and evaluate machine learning models to predict the grade of the milk based on the given parameters. You will perform data preprocessing, exploratory data analysis, and model training using different algorithms, including logistic regression, decision tree, gradient boosting, and XGBoost."
   ]
  },
  {
   "cell_type": "code",
   "execution_count": 13,
   "id": "4bc448b5-7466-403c-9f1c-9f1a2ac82bc4",
   "metadata": {},
   "outputs": [],
   "source": [
    "#Import Necessary Libraries\n",
    "\n",
    "import warnings\n",
    "warnings.filterwarnings(\"ignore\")\n",
    "import pandas as pd\n",
    "from matplotlib import pyplot as plt\n",
    "from sklearn.model_selection import train_test_split\n",
    "from sklearn.linear_model import LogisticRegression\n",
    "from sklearn.tree import DecisionTreeClassifier\n",
    "from sklearn.ensemble import GradientBoostingClassifier\n",
    "from xgboost import XGBClassifier\n",
    "import time\n",
    "from sklearn.metrics import accuracy_score, classification_report, confusion_matrix"
   ]
  },
  {
   "cell_type": "markdown",
   "id": "53a9f68c-92bd-45f7-9b29-5e63308b391c",
   "metadata": {},
   "source": [
    "### Task 1: Data Preparation and Exploration\n",
    "\n",
    "1. Import the data from the `\"milk_quality_data.csv\"` file and store it in a variable df.\n",
    "2. Display the number of rows and columns in the dataset.\n",
    "3. Display the first few rows of the dataset to get an overview.\n",
    "4. Check for any missing values in the dataset and handle them appropriately.\n",
    "5. Encode the target variable `grade` by mapping it to numbers `(low = 0, medium = 1, high = 2)`.\n",
    "6. Visualize the distribution of key features `(ph, temperature)` using histograms."
   ]
  },
  {
   "cell_type": "code",
   "execution_count": 14,
   "id": "0dd15aaf-7873-45ab-b2ba-9fbbcb362b24",
   "metadata": {},
   "outputs": [
    {
     "name": "stdout",
     "output_type": "stream",
     "text": [
      "Number of rows and columns: (1059, 8)\n",
      "First few rows of the dataset:\n"
     ]
    },
    {
     "data": {
      "text/html": [
       "<div>\n",
       "<style scoped>\n",
       "    .dataframe tbody tr th:only-of-type {\n",
       "        vertical-align: middle;\n",
       "    }\n",
       "\n",
       "    .dataframe tbody tr th {\n",
       "        vertical-align: top;\n",
       "    }\n",
       "\n",
       "    .dataframe thead th {\n",
       "        text-align: right;\n",
       "    }\n",
       "</style>\n",
       "<table border=\"1\" class=\"dataframe\">\n",
       "  <thead>\n",
       "    <tr style=\"text-align: right;\">\n",
       "      <th></th>\n",
       "      <th>ph</th>\n",
       "      <th>temperature</th>\n",
       "      <th>taste</th>\n",
       "      <th>odor</th>\n",
       "      <th>fat</th>\n",
       "      <th>turbidity</th>\n",
       "      <th>colour</th>\n",
       "      <th>grade</th>\n",
       "    </tr>\n",
       "  </thead>\n",
       "  <tbody>\n",
       "    <tr>\n",
       "      <th>0</th>\n",
       "      <td>6.6</td>\n",
       "      <td>35</td>\n",
       "      <td>1</td>\n",
       "      <td>0</td>\n",
       "      <td>1</td>\n",
       "      <td>0</td>\n",
       "      <td>254</td>\n",
       "      <td>high</td>\n",
       "    </tr>\n",
       "    <tr>\n",
       "      <th>1</th>\n",
       "      <td>6.6</td>\n",
       "      <td>36</td>\n",
       "      <td>0</td>\n",
       "      <td>1</td>\n",
       "      <td>0</td>\n",
       "      <td>1</td>\n",
       "      <td>253</td>\n",
       "      <td>high</td>\n",
       "    </tr>\n",
       "    <tr>\n",
       "      <th>2</th>\n",
       "      <td>8.5</td>\n",
       "      <td>70</td>\n",
       "      <td>1</td>\n",
       "      <td>1</td>\n",
       "      <td>1</td>\n",
       "      <td>1</td>\n",
       "      <td>246</td>\n",
       "      <td>low</td>\n",
       "    </tr>\n",
       "    <tr>\n",
       "      <th>3</th>\n",
       "      <td>9.5</td>\n",
       "      <td>34</td>\n",
       "      <td>1</td>\n",
       "      <td>1</td>\n",
       "      <td>0</td>\n",
       "      <td>1</td>\n",
       "      <td>255</td>\n",
       "      <td>low</td>\n",
       "    </tr>\n",
       "    <tr>\n",
       "      <th>4</th>\n",
       "      <td>6.6</td>\n",
       "      <td>37</td>\n",
       "      <td>0</td>\n",
       "      <td>0</td>\n",
       "      <td>0</td>\n",
       "      <td>0</td>\n",
       "      <td>255</td>\n",
       "      <td>medium</td>\n",
       "    </tr>\n",
       "  </tbody>\n",
       "</table>\n",
       "</div>"
      ],
      "text/plain": [
       "    ph  temperature  taste  odor  fat  turbidity  colour   grade\n",
       "0  6.6           35      1     0    1          0     254    high\n",
       "1  6.6           36      0     1    0          1     253    high\n",
       "2  8.5           70      1     1    1          1     246     low\n",
       "3  9.5           34      1     1    0          1     255     low\n",
       "4  6.6           37      0     0    0          0     255  medium"
      ]
     },
     "execution_count": 14,
     "metadata": {},
     "output_type": "execute_result"
    }
   ],
   "source": [
    "# Step 1: Import the data from the \"milk_quality_data.csv\" file and store it in a variable 'df'\n",
    "df = pd.read_csv(\"../data/milk_quality_data.csv\")\n",
    "\n",
    "# Step 2: Display the number of rows and columns in the dataset\n",
    "print(\"Number of rows and columns:\", df.shape)\n",
    "\n",
    "# Step 3: Display the first few rows of the dataset to get an overview\n",
    "print(\"First few rows of the dataset:\")\n",
    "df.head()"
   ]
  },
  {
   "cell_type": "code",
   "execution_count": 15,
   "id": "3f87dd06-5c32-4b21-8c3d-1b32e498ca63",
   "metadata": {},
   "outputs": [
    {
     "name": "stdout",
     "output_type": "stream",
     "text": [
      "Missing values in the dataset:\n",
      "ph             0\n",
      "temperature    0\n",
      "taste          0\n",
      "odor           0\n",
      "fat            0\n",
      "turbidity      0\n",
      "colour         0\n",
      "grade          0\n",
      "dtype: int64\n"
     ]
    }
   ],
   "source": [
    "# Step 4: Check for any missing values in the dataset and handle them appropriately\n",
    "print(\"Missing values in the dataset:\")\n",
    "print(df.isna().sum())"
   ]
  },
  {
   "cell_type": "code",
   "execution_count": 16,
   "id": "a9fb1dbe-9377-46cc-ba63-260303926834",
   "metadata": {},
   "outputs": [],
   "source": [
    "# Step 5: Encode the target variable 'grade' by mapping it to numbers ('low' = 0, 'medium' = 1, 'high' = 2)\n",
    "grade_mapping = {'low': 0, 'medium': 1, 'high': 2}\n",
    "df['grade'] = df['grade'].map(grade_mapping)"
   ]
  },
  {
   "cell_type": "code",
   "execution_count": 17,
   "id": "1db55587-41fe-4204-b8c8-fc3ec5db8606",
   "metadata": {},
   "outputs": [
    {
     "data": {
      "image/png": "[encoded data removed]",
      "text/plain": [
       "<Figure size 1000x600 with 2 Axes>"
      ]
     },
     "metadata": {},
     "output_type": "display_data"
    }
   ],
   "source": [
    "# Step 6: Visualize the distribution of key features ('ph', 'temperature') using histograms\n",
    "df[['ph', 'temperature']].hist(bins=20, figsize=(10, 6))\n",
    "plt.tight_layout()\n",
    "plt.show()"
   ]
  },
  {
   "cell_type": "markdown",
   "id": "08302fd7-4216-4cb4-a49c-9d4fe32b4233",
   "metadata": {},
   "source": [
    "### Task 2: Model Training Using Basic Models\n",
    "\n",
    "1. Select the features `(ph, temperature, taste, odor, fat, turbidity, colour)` and the target variable `(grade)` for modeling.\n",
    "2. Split the data into training and test sets with a test size of 30%.\n",
    "3. Initialize and train a Logistic Regression model using the training data.\n",
    "4. Print the model's accuracy score on test data.\n",
    "5. Initialize and train a Decision Tree Classifier using the training data.\n",
    "6. Print the model's accuracy score on test data."
   ]
  },
  {
   "cell_type": "code",
   "execution_count": 19,
   "id": "c0510e75-f540-400e-bfae-ea6c0272e9ba",
   "metadata": {},
   "outputs": [],
   "source": [
    "# Step 1: Select the features and target variable for modeling\n",
    "X = df[['ph', 'temperature', 'taste', 'odor', 'fat', 'turbidity', 'colour']]\n",
    "y = df['grade']\n",
    "\n",
    "# Step 2: Split the data into training and test sets with a test size of 30%\n",
    "X_train, X_test, y_train, y_test = train_test_split(X, y, test_size=0.3, random_state=42)\n"
   ]
  },
  {
   "cell_type": "code",
   "execution_count": 20,
   "id": "cf2b5676-3f20-403c-aca8-7c8fe9c6d706",
   "metadata": {},
   "outputs": [
    {
     "name": "stdout",
     "output_type": "stream",
     "text": [
      "Logistic Regression Accuracy: 0.6981132075471698\n"
     ]
    }
   ],
   "source": [
    "# Step 3: Initialize and train a Logistic Regression model using the training data\n",
    "logistic_model = LogisticRegression()\n",
    "logistic_model.fit(X_train, y_train)\n",
    "\n",
    "# Step 4: Print the model's accuracy score on test data.\n",
    "logistic_pred = logistic_model.predict(X_test)\n",
    "print(\"Logistic Regression Accuracy:\", accuracy_score(y_test, logistic_pred))\n"
   ]
  },
  {
   "cell_type": "code",
   "execution_count": 21,
   "id": "95237b31-8066-485c-b3e6-b3c3cee22657",
   "metadata": {},
   "outputs": [
    {
     "name": "stdout",
     "output_type": "stream",
     "text": [
      "Decision Tree Classifier Accuracy: 0.9937106918238994\n"
     ]
    }
   ],
   "source": [
    "# Step 5: Initialize and train a Decision Tree Classifier using the training data\n",
    "tree_model = DecisionTreeClassifier()\n",
    "tree_model.fit(X_train, y_train)\n",
    "\n",
    "# Step 6: Print the model's accuracy score on test data.\n",
    "tree_pred = tree_model.predict(X_test)\n",
    "print(\"Decision Tree Classifier Accuracy:\", accuracy_score(y_test, tree_pred))"
   ]
  },
  {
   "cell_type": "markdown",
   "id": "946cdb9b-2b5b-4bb2-b808-6d6d6ddede7d",
   "metadata": {},
   "source": [
    "### Task 3: Model Training Using Advanced Models\n",
    "\n",
    "1. Initialize and train a Gradient Boosting Classifier with 50 estimators using the training data.\n",
    "2. Print the model's accuracy score on test data.\n",
    "3. Initialize and train an XGBoost Classifier with 50 estimators using the training data.\n",
    "4. Print the model's accuracy score on test data."
   ]
  },
  {
   "cell_type": "code",
   "execution_count": 22,
   "id": "5f4db78c-98d8-4f0b-8017-cc8a36f7839c",
   "metadata": {},
   "outputs": [
    {
     "name": "stdout",
     "output_type": "stream",
     "text": [
      "Gradient Boosting Classifier Accuracy: 0.9905660377358491\n"
     ]
    }
   ],
   "source": [
    "# Step 1: Initialize and train a Gradient Boosting Classifier with 50 estimators using the training data\n",
    "gb_model = GradientBoostingClassifier(n_estimators=50)\n",
    "gb_model.fit(X_train, y_train)\n",
    "\n",
    "# Step 2: Print the model's accuracy score\n",
    "gb_pred = gb_model.predict(X_test)\n",
    "print(\"Gradient Boosting Classifier Accuracy:\", accuracy_score(y_test, gb_pred))"
   ]
  },
  {
   "cell_type": "code",
   "execution_count": 23,
   "id": "4545a907-e316-42c5-b961-b3cf8dffb8e6",
   "metadata": {},
   "outputs": [
    {
     "name": "stdout",
     "output_type": "stream",
     "text": [
      "XGBoost Classifier Accuracy: 0.9968553459119497\n"
     ]
    }
   ],
   "source": [
    "# Step 3: Initialize and train an XGBoost Classifier with 50 estimators using the training data\n",
    "xgb_model = XGBClassifier(n_estimators=50, use_label_encoder=False, eval_metric='mlogloss')\n",
    "xgb_model.fit(X_train, y_train)\n",
    "\n",
    "# Step 4: Print the model's accuracy score\n",
    "xgb_pred = xgb_model.predict(X_test)\n",
    "print(\"XGBoost Classifier Accuracy:\", accuracy_score(y_test, xgb_pred))"
   ]
  },
  {
   "cell_type": "markdown",
   "id": "e2a4c0b7-d2d3-4ac0-bbf8-9b268923bf61",
   "metadata": {},
   "source": [
    "### Task 4: Experiment with Hyperparameters in XGBoost\n",
    "\n",
    "1. Train the XGBoost model with the following parameters\n",
    "    - n_estimators=100\n",
    "    - max_depth=5\n",
    "    - learning_rate=0.1\n",
    "    - colsample_bytree=0.5.\n",
    "\n",
    "Learn about these parameters here: [XgboostClassifier Parameters](https://xgboost.readthedocs.io/en/stable/parameter.html)\n",
    "\n",
    "2. Evaluate the model's performance using accuracy score and print it.\n",
    "3. Print the classification report and confusion matrix for the model."
   ]
  },
  {
   "cell_type": "code",
   "execution_count": 24,
   "id": "0d8ba474-0773-46e6-a7bf-616eade504e8",
   "metadata": {},
   "outputs": [
    {
     "name": "stdout",
     "output_type": "stream",
     "text": [
      "XGBoost Classifier (Hyperparameters) Accuracy: 0.9968553459119497\n"
     ]
    }
   ],
   "source": [
    "# Step 1: Train the XGBoost model with n_estimators=100, max_depth=5, learning_rate=0.1, colsample_bytree=0.5\n",
    "xgb_model_hyper = XGBClassifier(n_estimators=100, max_depth=5, learning_rate=0.1, colsample_bytree=0.5)\n",
    "xgb_model_hyper.fit(X_train, y_train)\n",
    "\n",
    "# Step 2: Evaluate the model's performance using accuracy score and print it\n",
    "xgb_hyper_pred = xgb_model_hyper.predict(X_test)\n",
    "print(\"XGBoost Classifier (Hyperparameters) Accuracy:\", accuracy_score(y_test, xgb_hyper_pred))\n"
   ]
  },
  {
   "cell_type": "code",
   "execution_count": 25,
   "id": "4f6fb643-463f-48b4-8e72-f35757c33629",
   "metadata": {},
   "outputs": [
    {
     "name": "stdout",
     "output_type": "stream",
     "text": [
      "Classification Report:\n",
      "              precision    recall  f1-score   support\n",
      "\n",
      "           0       1.00      0.99      1.00       115\n",
      "           1       0.99      1.00      1.00       127\n",
      "           2       1.00      1.00      1.00        76\n",
      "\n",
      "    accuracy                           1.00       318\n",
      "   macro avg       1.00      1.00      1.00       318\n",
      "weighted avg       1.00      1.00      1.00       318\n",
      "\n",
      "**************************************************\n",
      "Confusion Matrix:\n",
      "[[114   1   0]\n",
      " [  0 127   0]\n",
      " [  0   0  76]]\n"
     ]
    }
   ],
   "source": [
    "# Step 3: Print the classification report and confusion matrix for the model\n",
    "print(\"Classification Report:\")\n",
    "print(classification_report(y_test, xgb_hyper_pred))\n",
    "\n",
    "print('*' * 50)\n",
    "\n",
    "print(\"Confusion Matrix:\")\n",
    "print(confusion_matrix(y_test, xgb_hyper_pred))"
   ]
  },
  {
   "cell_type": "markdown",
   "id": "a230624c-a208-41dc-bfe0-a7c48b772d96",
   "metadata": {},
   "source": [
    "### Conclusion\n",
    "\n",
    "From the results, we can draw the following conclusions based on the performance metrics achieved by each model:\n",
    "\n",
    "1. **Logistic Regression Model**:\n",
    "    - Accuracy: 0.698\n",
    "    - Provides a baseline performance but struggles to capture complex relationships.\n",
    "<br> </br>\n",
    "2. **Decision Tree Classifier**:\n",
    "    - Accuracy: 0.994\n",
    "    - Shows significant improvement, indicating its ability to manage non-linear relationships and feature interactions.\n",
    "<br> </br>\n",
    "3. **Gradient Boosting Classifier**:\n",
    "    - Accuracy: 0.991\n",
    "    - Slightly improves over the Decision Tree, enhancing robustness by combining multiple weak learners.\n",
    "<br> </br>\n",
    "4. **XGBoost Classifier**:\n",
    "    - Accuracy: 0.997\n",
    "    - Achieves the highest accuracy, demonstrating its effectiveness in preventing overfitting and improving generalization.\n",
    "<br> </br>\n",
    "\n",
    "In conclusion, while Logistic Regression serves as a simple baseline, Decision Tree shows strong performance, and ensemble methods, particularly XGBoost, provide superior performance, making it the best choice for the milk quality prediction task."
   ]
  }
 ],
 "metadata": {
  "kernelspec": {
   "display_name": "Python 3 (ipykernel)",
   "language": "python",
   "name": "python3"
  },
  "language_info": {
   "codemirror_mode": {
    "name": "ipython",
    "version": 3
   },
   "file_extension": ".py",
   "mimetype": "text/x-python",
   "name": "python",
   "nbconvert_exporter": "python",
   "pygments_lexer": "ipython3",
   "version": "3.12.7"
  }
 },
 "nbformat": 4,
 "nbformat_minor": 5
}
