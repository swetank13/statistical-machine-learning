{
 "cells": [
  {
   "cell_type": "markdown",
   "id": "7207b821-ba07-474f-8092-ec0f1c333ee3",
   "metadata": {},
   "source": [
    "### <div align=\"center\">Data cleaning</div>"
   ]
  },
  {
   "cell_type": "code",
   "execution_count": null,
   "id": "e4273d22-1f05-4867-85ce-32add4bffb06",
   "metadata": {},
   "outputs": [],
   "source": [
    "# To find null value in dataframe for each column\n",
    "df.isna().sum()\n",
    "# Drop na value\n",
    "df.dropna(inplace=True)\n",
    "\n",
    "# Distinct value and their count \n",
    "df['Category'].value_counts()\n",
    "\n",
    "# To analyze a column in a dataframe\n",
    "df.column_name.describe()\n",
    "\n",
    "# To fill the NA value with mean/median/mode\n",
    "df['column_name'].fillna(df['column_name'].mean(), inplace=True)\n",
    "\n",
    "# Replace space with underscore and convert to lower case\n",
    "df.columns = df.columns.str.replace(\" \",\"_\").str.lower()\n",
    "\n",
    "# Handle Duplicates\n",
    "df.duplicated().sum()\n",
    "df.drop_duplicates(inplace=True)\n",
    "\n",
    "# Replace space with underscor and convert field to lower case\n",
    "df.columns = df.columns.str.replace(\" \",\"_\").str.lower()\n",
    "\n",
    "# Filter a column with condition and get unique value out of it\n",
    "df[df['number_of_dependants']<0]['number_of_dependants'].unique()\n",
    "\n",
    "# Get absolute value of a column in dataframe\n",
    "df['number_of_dependants'] = df['number_of_dependants'].abs()\n",
    "\n",
    "# Get columns which is of float64 or int64\n",
    "numeric_columns = df.select_dtypes(include=['float64', 'int64']).columns\n",
    "# Get all the columns\n",
    "df.columns\n",
    "\n",
    "# Outlier Treatment: Income Column\n",
    "quantile_thresold = df1.income_lakhs.quantile(0.999) # Output: 100.0\n",
    "\n",
    "# Analyse Categorical Columns and get unique value for each column\n",
    "categorical_cols = ['gender', 'region', 'marital_status', 'bmi_category', 'smoking_status', 'employment_status', 'income_level', 'medical_history', 'insurance_plan']\n",
    "for col in categorical_cols:\n",
    "    print(col, \":\", df2[col].unique())"
   ]
  },
  {
   "cell_type": "markdown",
   "id": "f80df11d-988e-437b-916b-f09ea2bde2d9",
   "metadata": {},
   "source": [
    "### <div align=\"center\">Feature Engineering</div>"
   ]
  },
  {
   "cell_type": "code",
   "execution_count": null,
   "id": "ee41e114-74d2-4ecb-915e-0e700f5989b3",
   "metadata": {},
   "outputs": [],
   "source": [
    "# Add a column by applying a transformation\n",
    "# Encode the categorical variable 'smoking_status' by converting 'Yes' to 1 and 'No' to 0.\n",
    "df['smoking_status'] = df['smoking_status'].apply(lambda x: 1 if x == 'Yes' else 0)\n",
    "\n",
    "#Map the field value\n",
    "df['Gender'] = df['Gender'].map({'male': 1,  'female': 2})\n",
    "\n",
    "# add artificial genetical_risk column to the dataframe\n",
    "df['Genetical_Risk'] = 0\n",
    "\n",
    "# Define the risk scores for each condition\n",
    "risk_scores = {\"diabetes\": 6, \"heart disease\": 8, \"high blood pressure\":6, \"thyroid\": 5, \"no disease\": 0, \"none\":0}\n",
    "df2[['disease1', 'disease2']] = df2['medical_history'].str.split(\" & \", expand=True).apply(lambda x: x.str.lower())\n",
    "df2['disease1'] = df2['disease1'].fillna('none')\n",
    "df2['disease2'] = df2['disease2'].fillna('none')\n",
    "Diseases = ['disease1', 'disease2']\n",
    "df2['total_risk_score'] = 0\n",
    "for disease in Diseases:\n",
    "    df2['total_risk_score'] += df2[disease].map(risk_scores)\n",
    "\n",
    "# Encode Text Columns\n",
    "df2['insurance_plan'] = df2['insurance_plan'].map({'Gold': 3,'Silver': 2,'Bronze': 1})\n",
    "\n",
    "# Scale the column with min max scalar\n",
    "X = df4.drop('annual_premium_amount', axis='columns')\n",
    "y = df4['annual_premium_amount']\n",
    "\n",
    "from sklearn.preprocessing import MinMaxScaler\n",
    "\n",
    "cols_to_scale = ['age','number_of_dependants', 'income_level',  'income_lakhs', 'insurance_plan', 'genetical_risk']\n",
    "scaler = MinMaxScaler()\n",
    "\n",
    "X[cols_to_scale] = scaler.fit_transform(X[cols_to_scale])\n",
    "X.describe()\n",
    "\n",
    "# Calculate VIF\n",
    "from statsmodels.stats.outliers_influence import variance_inflation_factor\n",
    "\n",
    "def calculate_vif(data):\n",
    "    vif_df = pd.DataFrame()\n",
    "    vif_df['Column'] = data.columns\n",
    "    vif_df['VIF'] = [variance_inflation_factor(data.values,i) for i in range(data.shape[1])]\n",
    "    return vif_df\n",
    "\n",
    "calculate_vif(X)\n",
    "\n",
    "# we will drop income_lakhs due to high VIF value\n",
    "X_reduced = X.drop('income_level', axis=\"columns\")"
   ]
  },
  {
   "cell_type": "markdown",
   "id": "d42aec6a-103d-4cb0-a75a-0e856af634e8",
   "metadata": {},
   "source": [
    "- Decision tree (gini and entropy) is important because it is used in ensimble learning model like RandomForest xgboost etc."
   ]
  },
  {
   "cell_type": "markdown",
   "id": "f4d8dbcc-4250-48e8-8bba-d1449a665e6e",
   "metadata": {},
   "source": [
    "<h3 align=\"center\" style=\"color:blue\">Model Training</h3>"
   ]
  },
  {
   "cell_type": "code",
   "execution_count": null,
   "id": "892e6ea5-d163-4d26-8e4e-eb1135e29682",
   "metadata": {},
   "outputs": [],
   "source": [
    "from sklearn.linear_model import LinearRegression, Ridge, Lasso\n",
    "from sklearn.metrics import r2_score, mean_squared_error, mean_absolute_error\n",
    "from sklearn.model_selection import train_test_split, cross_val_score\n",
    "from sklearn.model_selection import GridSearchCV, RandomizedSearchCV, train_test_split"
   ]
  },
  {
   "cell_type": "code",
   "execution_count": null,
   "id": "2cfbb39f-6172-4b41-b761-aca5a569440b",
   "metadata": {},
   "outputs": [],
   "source": [
    "# Train Test Split\n",
    "X_train, X_test, y_train, y_test = train_test_split(X_reduced, y, test_size=0.30, random_state=10)\n",
    "\n",
    "# Linear Regression Model\n",
    "model_lr = LinearRegression()\n",
    "model_lr.fit(X_train, y_train)\n",
    "test_score = model_lr.score(X_test, y_test)\n",
    "train_score = model_lr.score(X_train, y_train)\n",
    "train_score, test_score\n",
    "\n",
    "# Ridge Regression\n",
    "model_rg = Ridge(alpha=1)\n",
    "model_rg.fit(X_train, y_train)\n",
    "test_score = model_rg.score(X_test, y_test)\n",
    "train_score = model_rg.score(X_train, y_train)\n",
    "train_score, test_score\n",
    "\n",
    "# XGBoost\n",
    "from xgboost import XGBRegressor\n",
    "\n",
    "model_xgb = XGBRegressor(n_estimators=20, max_depth=3)\n",
    "model_xgb.fit(X_train, y_train)\n",
    "model_xgb.score(X_test, y_test)"
   ]
  },
  {
   "cell_type": "code",
   "execution_count": null,
   "id": "4d831277-da90-4b3d-abbd-d8aeb76d0403",
   "metadata": {},
   "outputs": [],
   "source": [
    "# RandomizedSearchCV\n",
    "model_xgb = XGBRegressor()\n",
    "param_grid = {\n",
    "    'n_estimators': [20, 40, 50],\n",
    "    'learning_rate': [0.01, 0.1, 0.2],\n",
    "    'max_depth': [3, 4, 5],\n",
    "}\n",
    "random_search = RandomizedSearchCV(model_xgb, param_grid, n_iter=10, cv=3, scoring='r2', random_state=42, n_jobs=-1)\n",
    "random_search.fit(X_train, y_train)\n",
    "random_search.best_score_\n",
    "\n",
    "random_search.best_params_"
   ]
  },
  {
   "cell_type": "code",
   "execution_count": null,
   "id": "4c9fd335-cea4-4099-92b4-56d35d658089",
   "metadata": {},
   "outputs": [],
   "source": [
    "# Export the Model\n",
    "from joblib import dump\n",
    "\n",
    "dump(best_model, \"artifacts/model_rest.joblib\")\n",
    "scaler_with_cols = {\n",
    "    'scaler': scaler,\n",
    "    'cols_to_scale': cols_to_scale\n",
    "}\n",
    "dump(scaler_with_cols, \"artifacts/scaler_rest.joblib\")"
   ]
  }
 ],
 "metadata": {
  "kernelspec": {
   "display_name": "Python 3 (ipykernel)",
   "language": "python",
   "name": "python3"
  },
  "language_info": {
   "codemirror_mode": {
    "name": "ipython",
    "version": 3
   },
   "file_extension": ".py",
   "mimetype": "text/x-python",
   "name": "python",
   "nbconvert_exporter": "python",
   "pygments_lexer": "ipython3",
   "version": "3.10.11"
  }
 },
 "nbformat": 4,
 "nbformat_minor": 5
}
