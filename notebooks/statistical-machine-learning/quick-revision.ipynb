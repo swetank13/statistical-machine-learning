{
 "cells": [
  {
   "cell_type": "markdown",
   "id": "7207b821-ba07-474f-8092-ec0f1c333ee3",
   "metadata": {},
   "source": [
    "### <div align=\"center\">Data cleaning</div>"
   ]
  },
  {
   "cell_type": "code",
   "execution_count": null,
   "id": "e4273d22-1f05-4867-85ce-32add4bffb06",
   "metadata": {},
   "outputs": [],
   "source": [
    "# To find null value in dataframe for each column\n",
    "df.isna().sum()\n",
    "\n",
    "# Distinct value and their count \n",
    "df['Category'].value_counts()\n",
    "\n",
    "# To analyze a column in a dataframe\n",
    "df.column_name.describe()\n",
    "\n",
    "# To fill the NA value with mean/median/mode\n",
    "df['column_name'].fillna(df['column_name'].mean(), inplace=True)"
   ]
  },
  {
   "cell_type": "markdown",
   "id": "f80df11d-988e-437b-916b-f09ea2bde2d9",
   "metadata": {},
   "source": [
    "### <div align=\"center\">Feature Engineering</div>"
   ]
  },
  {
   "cell_type": "code",
   "execution_count": null,
   "id": "ee41e114-74d2-4ecb-915e-0e700f5989b3",
   "metadata": {},
   "outputs": [],
   "source": [
    "# Add a column by applying a transformation\n",
    "# Encode the categorical variable 'smoking_status' by converting 'Yes' to 1 and 'No' to 0.\n",
    "df['smoking_status'] = df['smoking_status'].apply(lambda x: 1 if x == 'Yes' else 0)\n",
    "\n",
    "#Map the field value\n",
    "df['Gender'] = df['Gender'].map({'male': 1,  'female': 2})"
   ]
  },
  {
   "cell_type": "markdown",
   "id": "d42aec6a-103d-4cb0-a75a-0e856af634e8",
   "metadata": {},
   "source": [
    "- Decision tree (gini and entropy) is important because it is used in ensimble learning model like RandomForest xgboost etc."
   ]
  }
 ],
 "metadata": {
  "kernelspec": {
   "display_name": "Python 3 (ipykernel)",
   "language": "python",
   "name": "python3"
  },
  "language_info": {
   "codemirror_mode": {
    "name": "ipython",
    "version": 3
   },
   "file_extension": ".py",
   "mimetype": "text/x-python",
   "name": "python",
   "nbconvert_exporter": "python",
   "pygments_lexer": "ipython3",
   "version": "3.10.11"
  }
 },
 "nbformat": 4,
 "nbformat_minor": 5
}
