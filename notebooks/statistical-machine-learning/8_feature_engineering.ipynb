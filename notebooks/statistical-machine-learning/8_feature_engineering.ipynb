{
 "cells": [
  {
   "cell_type": "markdown",
   "id": "9dcc16da-af85-4667-9eeb-b8704fe1d225",
   "metadata": {},
   "source": [
    "### <div align=\"center\">Feature Engineering</div>"
   ]
  },
  {
   "cell_type": "markdown",
   "id": "8d7a9185-ed19-4d08-8640-a6e6d3d7ad76",
   "metadata": {},
   "source": [
    "##### 8.1: 3 Ways of Doing Feature Engineering\n",
    "- Feature engineering can be done using two ways: business understanding and statistics.\n",
    "- 3 Ways of Doing Feature Engineering\n",
    "  1. Feature Cleaning & Transformation:\n",
    "     a. Improving data quality by cleaning and transforming features to make them suitable for analysis\n",
    "     b. Handle missing data\n",
    "     c. Remove duplicates\n",
    "     d. Treat outliers\n",
    "     e. Scaling\n",
    "     f. Normalization\n",
    "     g. Encoding\n",
    "  2. Feature Selection: Choosing the most relevant features from the dataset to improve model performance and reduce complexity.\n",
    "  3. Feature Creation: Generating new features from existing data to enhance the predictive power of the model."
   ]
  },
  {
   "cell_type": "markdown",
   "id": "627b3dd4-ff54-4872-befb-74530878adbf",
   "metadata": {},
   "source": [
    "##### 8.2: Feature Selection using Corelation\n",
    "- Correlation in feature engineering feature selection: Measures the relationship between features to identify and remove redundant or irrelevant ones.\n",
    "- Scenarios where you should not use correlation for Feature Selection\n",
    "  1. Non-Linear Relationship\n",
    "  2. Outliers\n",
    "  3. Categorical variables\n",
    "  4. Correlation vs causation"
   ]
  },
  {
   "cell_type": "markdown",
   "id": "0139e4ce-d843-4894-9cdc-b2a7974f0457",
   "metadata": {},
   "source": [
    "##### 8.3 & 8.4: Feature Selection using Variance Inflation Factor (VIF)\n",
    "- Variance Inflation Factor (VIF) measures how much a feature's variance is increased due to multicollinearity, which is when features are highly correlated with each other.\n",
    "- High VIF means the feature is highly correlated with others, which can cause problems in the model.\n",
    "- Multicollinearity may not affect the model’s accuracy directly, but model interpretation and the stability of coefficients will be negatively impacted.\n",
    "- Detect features with high Variance Inflation Factor (VIF) indicating multicollinearity → Eliminate the feature with the highest VIF → Recompute VIF for the remaining features → Repeat the process until all features have acceptable VIF values."
   ]
  }
 ],
 "metadata": {
  "kernelspec": {
   "display_name": "Python 3 (ipykernel)",
   "language": "python",
   "name": "python3"
  },
  "language_info": {
   "codemirror_mode": {
    "name": "ipython",
    "version": 3
   },
   "file_extension": ".py",
   "mimetype": "text/x-python",
   "name": "python",
   "nbconvert_exporter": "python",
   "pygments_lexer": "ipython3",
   "version": "3.12.7"
  }
 },
 "nbformat": 4,
 "nbformat_minor": 5
}
