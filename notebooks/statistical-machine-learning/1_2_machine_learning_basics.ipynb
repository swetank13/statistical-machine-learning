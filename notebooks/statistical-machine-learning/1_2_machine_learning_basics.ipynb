{
 "cells": [
  {
   "cell_type": "markdown",
   "id": "242a37c8-c147-4fcc-b85a-09140f474ebe",
   "metadata": {},
   "source": [
    "## <div align=\"center\">Machine Learning</div>"
   ]
  },
  {
   "cell_type": "markdown",
   "id": "3864d3b5-08c1-49f8-b6ec-e7e2df1f5053",
   "metadata": {},
   "source": [
    "#### Machine Learning is a discipline in computer science where we train machines on data so that they can make predictions without explicit programming. A machine is trained by providing the input and output data not the logic.\n",
    "Statistical ML setup the foundation of AI, Deep Learning is the natural extension of Statistical ML and together they form Machine Learning. ML gave birth to Neural Networks. In Neural Networks we see verity of architecture such as RNN, CNN, Transformers etc. Then NLP has come and combined with transformers and given birth to LLMs such as Gpt4.\n",
    "#### Two main categories under Machine Learning (ML)\n",
    "- Deep Learning: Under Deep Learning, it lists Neural Networks, CNN, and RNN.\n",
    "- Statistical ML: Under Statistical ML, it lists Linear Regression, Decision Tree, and K-means.\n",
    "- There is also a section on NLP Regular Expression and Robotics."
   ]
  },
  {
   "cell_type": "markdown",
   "id": "fc10c978-2952-4b02-abd5-1374e8e4bcb5",
   "metadata": {},
   "source": [
    "#### Classification Vs Regression"
   ]
  },
  {
   "cell_type": "markdown",
   "id": "b58b83aa-5273-4ca1-bd97-0eb68a04e0ac",
   "metadata": {},
   "source": [
    "- There are two major use cases of machine learning: Classification and Regression.\n",
    "- Classification is about dividing the data into specific groups, such as 'red' or 'blue', 'male' or 'female'.\n",
    "It is often used in fraud detection, news category classification etc.\n",
    "- Regression is about predicting a numerical value based on the previous values and its related features. it is often used to predict stock prices, housing prices, salaries etc.\n",
    "- Regression has continuous value where as classification has fixed category non continuous."
   ]
  },
  {
   "cell_type": "markdown",
   "id": "70f3eda3-ba9f-4f7a-8fc4-34320bfb7b8b",
   "metadata": {},
   "source": [
    "#### Supervised vs Unsupervised learning"
   ]
  },
  {
   "cell_type": "markdown",
   "id": "7b1f24cd-99ce-42b7-bf1d-77e453e7c8d7",
   "metadata": {},
   "source": [
    "- Machine learning methods are broadly classified into three types\n",
    "  1. Supervised learning\n",
    "  2. Unsupervised learning.\n",
    "  3. Reinforcement learning\n",
    "- Supervised learning is a method in which the model is trained on a labeled dataset such as house price prediction.\n",
    "- Unsupervised learning is a method in which the input data is not provided with labels and the model is expected to classify the data based on the hidden patterns and structures like document classification.\n",
    "- Reinforcement learning is a type of machine learning where an agent learns to make decisions by interacting with an environment. The agent receives rewards or penalties based on its actions and learns to maximize cumulative rewards over time."
   ]
  }
 ],
 "metadata": {
  "kernelspec": {
   "display_name": "Python 3 (ipykernel)",
   "language": "python",
   "name": "python3"
  },
  "language_info": {
   "codemirror_mode": {
    "name": "ipython",
    "version": 3
   },
   "file_extension": ".py",
   "mimetype": "text/x-python",
   "name": "python",
   "nbconvert_exporter": "python",
   "pygments_lexer": "ipython3",
   "version": "3.10.11"
  }
 },
 "nbformat": 4,
 "nbformat_minor": 5
}
