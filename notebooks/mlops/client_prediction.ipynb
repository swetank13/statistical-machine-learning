{
 "cells": [
  {
   "cell_type": "code",
   "execution_count": 13,
   "id": "1599d284-6669-40a7-8533-ef233126edec",
   "metadata": {},
   "outputs": [
    {
     "data": {
      "text/plain": [
       "'0.14405474066734314\\n0.97748315'"
      ]
     },
     "execution_count": 13,
     "metadata": {},
     "output_type": "execute_result"
    }
   ],
   "source": [
    "import boto3\n",
    "import pandas as pd\n",
    "import json\n",
    "from sagemaker.serializers import CSVSerializer\n",
    "\n",
    "# Load the test data (make sure 'test.csv' is in the current directory or provide the correct path)\n",
    "test_data = pd.read_csv('test.csv', header=None)\n",
    "\n",
    "# Prepare test data for prediction, excluding the label column\n",
    "test_data_array = test_data.values[:, 1:]  # Exclude the label column\n",
    "\n",
    "# Initialize the SageMaker runtime client\n",
    "client = boto3.client('runtime.sagemaker')\n",
    "\n",
    "# Define the endpoint name (should match the name used during endpoint creation)\n",
    "endpoint_name = 'sagemaker-xgboost-2024-08-02-20-49-58-454'\n",
    "\n",
    "# Initialize the CSV serializer\n",
    "csv_serializer = CSVSerializer()\n",
    "\n",
    "# Serialize the test data\n",
    "serialized_test_data = csv_serializer.serialize(test_data_array)\n",
    "\n",
    "# Invoke the endpoint\n",
    "response = client.invoke_endpoint(\n",
    "    EndpointName=endpoint_name,\n",
    "    ContentType='text/csv',\n",
    "    Body=serialized_test_data\n",
    ")\n",
    "\n",
    "# Read and decode the response body\n",
    "response_body = response['Body'].read().decode('utf-8')\n",
    "response_body[:30]"
   ]
  },
  {
   "cell_type": "code",
   "execution_count": 12,
   "id": "125d75c5-1793-4771-ad26-de28c9d9adb5",
   "metadata": {},
   "outputs": [
    {
     "name": "stdout",
     "output_type": "stream",
     "text": [
      "[0.14405474066734314, 0.9774831533432007, 0.737284779548645, 0.7516846656799316, 0.01202067919075489]\n"
     ]
    }
   ],
   "source": [
    "# Split the response by newlines and convert to floats\n",
    "predictions = [float(value) for value in response_body.split('\\n') if value]\n",
    "\n",
    "# Print the first 5 predictions\n",
    "print(predictions[:5])"
   ]
  }
 ],
 "metadata": {
  "kernelspec": {
   "display_name": "Python 3 (ipykernel)",
   "language": "python",
   "name": "python3"
  },
  "language_info": {
   "codemirror_mode": {
    "name": "ipython",
    "version": 3
   },
   "file_extension": ".py",
   "mimetype": "text/x-python",
   "name": "python",
   "nbconvert_exporter": "python",
   "pygments_lexer": "ipython3",
   "version": "3.10.11"
  }
 },
 "nbformat": 4,
 "nbformat_minor": 5
}
