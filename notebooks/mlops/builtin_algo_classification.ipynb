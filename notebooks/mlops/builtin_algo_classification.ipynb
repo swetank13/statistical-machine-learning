{
 "cells": [
  {
   "cell_type": "code",
   "execution_count": 17,
   "id": "4cba9887-fda7-43eb-a574-cf227ed2646c",
   "metadata": {},
   "outputs": [
    {
     "data": {
      "text/plain": [
       "'arn:aws:iam::011528297661:role/service-role/AmazonSageMaker-ExecutionRole-20240730T170025'"
      ]
     },
     "execution_count": 17,
     "metadata": {},
     "output_type": "execute_result"
    }
   ],
   "source": [
    "import sagemaker\n",
    "from sagemaker import get_execution_role\n",
    "\n",
    "sess = sagemaker.Session()\n",
    "role = get_execution_role()\n",
    "role"
   ]
  },
  {
   "cell_type": "code",
   "execution_count": 13,
   "id": "467333b4-65e8-479a-9dbf-d7393829b1ce",
   "metadata": {
    "editable": true,
    "slideshow": {
     "slide_type": ""
    },
    "tags": []
   },
   "outputs": [],
   "source": [
    "from sagemaker.estimator import Estimator\n",
    "from sagemaker.inputs import TrainingInput\n",
    "from sagemaker.xgboost import XGBoostPredictor\n",
    "import boto3\n",
    "import pandas as pd\n",
    "import numpy as np\n",
    "from sklearn.datasets import make_classification\n",
    "from sklearn.model_selection import train_test_split\n",
    "from sklearn.metrics import classification_report"
   ]
  },
  {
   "cell_type": "code",
   "execution_count": 46,
   "id": "30453727-1f9a-42cc-9f2c-3f06d4ee2209",
   "metadata": {},
   "outputs": [],
   "source": [
    "X, y = make_classification(n_samples=1000, n_features=10, n_classes=2, random_state=42)\n",
    "X_train, X_test, y_train, y_test = train_test_split(X, y, test_size=0.2, random_state=42)"
   ]
  },
  {
   "cell_type": "code",
   "execution_count": 47,
   "id": "1697cb26-adcd-4533-908d-c44e178db81b",
   "metadata": {},
   "outputs": [],
   "source": [
    "# Prepare data for SageMaker\n",
    "train_data = pd.DataFrame(np.column_stack((y_train, X_train)))\n",
    "test_data = pd.DataFrame(np.column_stack((y_test, X_test)))\n",
    "\n",
    "# Save data to CSV\n",
    "train_data.to_csv('train.csv', index=False, header=False)\n",
    "test_data.to_csv('test.csv', index=False, header=False)"
   ]
  },
  {
   "cell_type": "code",
   "execution_count": 19,
   "id": "19564610-5e10-4e12-bf1f-0ed958637e39",
   "metadata": {},
   "outputs": [
    {
     "data": {
      "text/plain": [
       "'sagemaker-us-east-1-011528297661'"
      ]
     },
     "execution_count": 19,
     "metadata": {},
     "output_type": "execute_result"
    }
   ],
   "source": [
    "prefix = 'xgboost-classification'\n",
    "bucket = sess.default_bucket()\n",
    "bucket"
   ]
  },
  {
   "cell_type": "code",
   "execution_count": 48,
   "id": "093843ce-f3d3-4488-9082-f1d76a0d966e",
   "metadata": {},
   "outputs": [],
   "source": [
    "train_s3 = sess.upload_data('train.csv', bucket, f'{prefix}/train')\n",
    "test_s3 = sess.upload_data('test.csv', bucket, f'{prefix}/test')"
   ]
  },
  {
   "cell_type": "code",
   "execution_count": 49,
   "id": "1ee1eeb1-d2c8-4069-8e03-b244669e7c45",
   "metadata": {},
   "outputs": [],
   "source": [
    "# Set up S3 inputs\n",
    "s3_input_train = TrainingInput(s3_data=train_s3, content_type=\"csv\")\n",
    "s3_input_validation = TrainingInput(s3_data=test_s3, content_type=\"csv\")"
   ]
  },
  {
   "cell_type": "code",
   "execution_count": 50,
   "id": "eb5e5a6b-bf0f-4f99-b835-a4ad1e5f3e24",
   "metadata": {},
   "outputs": [
    {
     "name": "stderr",
     "output_type": "stream",
     "text": [
      "INFO:sagemaker.image_uris:Ignoring unnecessary instance type: None.\n"
     ]
    },
    {
     "data": {
      "text/plain": [
       "'683313688378.dkr.ecr.us-east-1.amazonaws.com/sagemaker-xgboost:1.5-1'"
      ]
     },
     "execution_count": 50,
     "metadata": {},
     "output_type": "execute_result"
    }
   ],
   "source": [
    "# Get the XGBoost container\n",
    "container = sagemaker.image_uris.retrieve(\"xgboost\", sess.boto_region_name, \"1.5-1\")\n",
    "container"
   ]
  },
  {
   "cell_type": "code",
   "execution_count": 51,
   "id": "6ca32dca-9a1b-4d8a-b83d-9a906e51c647",
   "metadata": {},
   "outputs": [
    {
     "data": {
      "text/plain": [
       "<sagemaker.estimator.Estimator at 0x7fc43a7e1810>"
      ]
     },
     "execution_count": 51,
     "metadata": {},
     "output_type": "execute_result"
    }
   ],
   "source": [
    "# Set up the estimator\n",
    "xgb = Estimator(\n",
    "    container,\n",
    "    role,\n",
    "    instance_count=1,\n",
    "    instance_type=\"ml.m4.xlarge\",\n",
    "    output_path=f\"s3://{bucket}/{prefix}/output\",\n",
    "    sagemaker_session=sess,\n",
    ")\n",
    "xgb"
   ]
  },
  {
   "cell_type": "code",
   "execution_count": 52,
   "id": "0e072831-48a6-49fe-8840-88ccf555b562",
   "metadata": {},
   "outputs": [
    {
     "name": "stderr",
     "output_type": "stream",
     "text": [
      "INFO:sagemaker:Creating training-job with name: sagemaker-xgboost-2024-07-31-22-05-56-572\n"
     ]
    },
    {
     "name": "stdout",
     "output_type": "stream",
     "text": [
      "2024-07-31 22:05:56 Starting - Starting the training job...\n",
      "2024-07-31 22:06:13 Starting - Preparing the instances for training...\n",
      "2024-07-31 22:06:45 Downloading - Downloading input data...\n",
      "2024-07-31 22:07:15 Downloading - Downloading the training image......\n",
      "2024-07-31 22:08:16 Training - Training image download completed. Training in progress..\u001b[34m/miniconda3/lib/python3.8/site-packages/xgboost/compat.py:36: FutureWarning: pandas.Int64Index is deprecated and will be removed from pandas in a future version. Use pandas.Index with the appropriate dtype instead.\n",
      "  from pandas import MultiIndex, Int64Index\u001b[0m\n",
      "\u001b[34m[2024-07-31 22:08:26.508 ip-10-0-187-79.ec2.internal:7 INFO utils.py:28] RULE_JOB_STOP_SIGNAL_FILENAME: None\u001b[0m\n",
      "\u001b[34m[2024-07-31 22:08:26.533 ip-10-0-187-79.ec2.internal:7 INFO profiler_config_parser.py:111] User has disabled profiler.\u001b[0m\n",
      "\u001b[34m[2024-07-31:22:08:26:INFO] Imported framework sagemaker_xgboost_container.training\u001b[0m\n",
      "\u001b[34m[2024-07-31:22:08:26:INFO] Failed to parse hyperparameter objective value binary:logistic to Json.\u001b[0m\n",
      "\u001b[34mReturning the value itself\u001b[0m\n",
      "\u001b[34m[2024-07-31:22:08:26:INFO] No GPUs detected (normal if no gpus installed)\u001b[0m\n",
      "\u001b[34m[2024-07-31:22:08:26:INFO] Running XGBoost Sagemaker in algorithm mode\u001b[0m\n",
      "\u001b[34m[2024-07-31:22:08:26:INFO] Determined 0 GPU(s) available on the instance.\u001b[0m\n",
      "\u001b[34m[2024-07-31:22:08:26:INFO] Determined delimiter of CSV input is ','\u001b[0m\n",
      "\u001b[34m[2024-07-31:22:08:26:INFO] Determined delimiter of CSV input is ','\u001b[0m\n",
      "\u001b[34m[2024-07-31:22:08:26:INFO] files path: /opt/ml/input/data/train\u001b[0m\n",
      "\u001b[34m[2024-07-31:22:08:26:INFO] Determined delimiter of CSV input is ','\u001b[0m\n",
      "\u001b[34m[2024-07-31:22:08:26:INFO] files path: /opt/ml/input/data/validation\u001b[0m\n",
      "\u001b[34m[2024-07-31:22:08:26:INFO] Determined delimiter of CSV input is ','\u001b[0m\n",
      "\u001b[34m[2024-07-31:22:08:26:INFO] Single node training.\u001b[0m\n",
      "\u001b[34m[2024-07-31:22:08:26:INFO] Train matrix has 800 rows and 10 columns\u001b[0m\n",
      "\u001b[34m[2024-07-31:22:08:26:INFO] Validation matrix has 200 rows\u001b[0m\n",
      "\u001b[34m[2024-07-31 22:08:26.970 ip-10-0-187-79.ec2.internal:7 INFO json_config.py:92] Creating hook from json_config at /opt/ml/input/config/debughookconfig.json.\u001b[0m\n",
      "\u001b[34m[2024-07-31 22:08:26.971 ip-10-0-187-79.ec2.internal:7 INFO hook.py:206] tensorboard_dir has not been set for the hook. SMDebug will not be exporting tensorboard summaries.\u001b[0m\n",
      "\u001b[34m[2024-07-31 22:08:26.972 ip-10-0-187-79.ec2.internal:7 INFO hook.py:259] Saving to /opt/ml/output/tensors\u001b[0m\n",
      "\u001b[34m[2024-07-31 22:08:26.972 ip-10-0-187-79.ec2.internal:7 INFO state_store.py:77] The checkpoint config file /opt/ml/input/config/checkpointconfig.json does not exist.\u001b[0m\n",
      "\u001b[34m[2024-07-31:22:08:26:INFO] Debug hook created from config\u001b[0m\n",
      "\u001b[34m[2024-07-31 22:08:26.989 ip-10-0-187-79.ec2.internal:7 INFO hook.py:427] Monitoring the collections: metrics\u001b[0m\n",
      "\u001b[34m[2024-07-31 22:08:26.994 ip-10-0-187-79.ec2.internal:7 INFO hook.py:491] Hook is writing from the hook with pid: 7\u001b[0m\n",
      "\u001b[34m[0]#011train-logloss:0.56350#011validation-logloss:0.57170\u001b[0m\n",
      "\u001b[34m[1]#011train-logloss:0.46971#011validation-logloss:0.49006\u001b[0m\n",
      "\u001b[34m[2]#011train-logloss:0.40534#011validation-logloss:0.43602\u001b[0m\n",
      "\u001b[34m[3]#011train-logloss:0.35965#011validation-logloss:0.39671\u001b[0m\n",
      "\u001b[34m[4]#011train-logloss:0.32291#011validation-logloss:0.36705\u001b[0m\n",
      "\u001b[34m[5]#011train-logloss:0.29856#011validation-logloss:0.35001\u001b[0m\n",
      "\u001b[34m[6]#011train-logloss:0.27368#011validation-logloss:0.33347\u001b[0m\n",
      "\u001b[34m[7]#011train-logloss:0.25405#011validation-logloss:0.31840\u001b[0m\n",
      "\u001b[34m[8]#011train-logloss:0.23587#011validation-logloss:0.30509\u001b[0m\n",
      "\u001b[34m[9]#011train-logloss:0.22538#011validation-logloss:0.29925\u001b[0m\n",
      "\u001b[34m[10]#011train-logloss:0.21407#011validation-logloss:0.29139\u001b[0m\n",
      "\u001b[34m[11]#011train-logloss:0.20852#011validation-logloss:0.28742\u001b[0m\n",
      "\u001b[34m[12]#011train-logloss:0.20188#011validation-logloss:0.28286\u001b[0m\n",
      "\u001b[34m[13]#011train-logloss:0.19832#011validation-logloss:0.28137\u001b[0m\n",
      "\u001b[34m[14]#011train-logloss:0.19282#011validation-logloss:0.27648\u001b[0m\n",
      "\u001b[34m[15]#011train-logloss:0.18921#011validation-logloss:0.27481\u001b[0m\n",
      "\u001b[34m[16]#011train-logloss:0.18427#011validation-logloss:0.27223\u001b[0m\n",
      "\u001b[34m[17]#011train-logloss:0.18424#011validation-logloss:0.27173\u001b[0m\n",
      "\u001b[34m[18]#011train-logloss:0.18294#011validation-logloss:0.26970\u001b[0m\n",
      "\u001b[34m[19]#011train-logloss:0.17893#011validation-logloss:0.26815\u001b[0m\n",
      "\u001b[34m[20]#011train-logloss:0.17757#011validation-logloss:0.26929\u001b[0m\n",
      "\u001b[34m[21]#011train-logloss:0.17491#011validation-logloss:0.26637\u001b[0m\n",
      "\u001b[34m[22]#011train-logloss:0.17490#011validation-logloss:0.26602\u001b[0m\n",
      "\u001b[34m[23]#011train-logloss:0.17330#011validation-logloss:0.26444\u001b[0m\n",
      "\u001b[34m[24]#011train-logloss:0.17110#011validation-logloss:0.26357\u001b[0m\n",
      "\u001b[34m[25]#011train-logloss:0.17110#011validation-logloss:0.26352\u001b[0m\n",
      "\u001b[34m[26]#011train-logloss:0.17110#011validation-logloss:0.26333\u001b[0m\n",
      "\u001b[34m[27]#011train-logloss:0.17110#011validation-logloss:0.26353\u001b[0m\n",
      "\u001b[34m[28]#011train-logloss:0.17111#011validation-logloss:0.26397\u001b[0m\n",
      "\u001b[34m[29]#011train-logloss:0.17111#011validation-logloss:0.26408\u001b[0m\n",
      "\u001b[34m[30]#011train-logloss:0.16935#011validation-logloss:0.26500\u001b[0m\n",
      "\u001b[34m[31]#011train-logloss:0.16933#011validation-logloss:0.26449\u001b[0m\n",
      "\u001b[34m[32]#011train-logloss:0.16934#011validation-logloss:0.26490\u001b[0m\n",
      "\u001b[34m[33]#011train-logloss:0.16781#011validation-logloss:0.26347\u001b[0m\n",
      "\u001b[34m[34]#011train-logloss:0.16668#011validation-logloss:0.26232\u001b[0m\n",
      "\u001b[34m[35]#011train-logloss:0.16668#011validation-logloss:0.26286\u001b[0m\n",
      "\u001b[34m[36]#011train-logloss:0.16559#011validation-logloss:0.26278\u001b[0m\n",
      "\u001b[34m[37]#011train-logloss:0.16559#011validation-logloss:0.26282\u001b[0m\n",
      "\u001b[34m[38]#011train-logloss:0.16559#011validation-logloss:0.26280\u001b[0m\n",
      "\u001b[34m[39]#011train-logloss:0.16559#011validation-logloss:0.26273\u001b[0m\n",
      "\u001b[34m[40]#011train-logloss:0.16559#011validation-logloss:0.26283\u001b[0m\n",
      "\u001b[34m[41]#011train-logloss:0.16562#011validation-logloss:0.26362\u001b[0m\n",
      "\u001b[34m[42]#011train-logloss:0.16560#011validation-logloss:0.26309\u001b[0m\n",
      "\u001b[34m[43]#011train-logloss:0.16345#011validation-logloss:0.26214\u001b[0m\n",
      "\u001b[34m[44]#011train-logloss:0.16344#011validation-logloss:0.26149\u001b[0m\n",
      "\u001b[34m[45]#011train-logloss:0.16344#011validation-logloss:0.26142\u001b[0m\n",
      "\u001b[34m[46]#011train-logloss:0.16344#011validation-logloss:0.26141\u001b[0m\n",
      "\u001b[34m[47]#011train-logloss:0.16156#011validation-logloss:0.26276\u001b[0m\n",
      "\u001b[34m[48]#011train-logloss:0.16156#011validation-logloss:0.26285\u001b[0m\n",
      "\u001b[34m[49]#011train-logloss:0.16156#011validation-logloss:0.26293\u001b[0m\n",
      "\u001b[34m[50]#011train-logloss:0.16156#011validation-logloss:0.26326\u001b[0m\n",
      "\u001b[34m[51]#011train-logloss:0.16156#011validation-logloss:0.26330\u001b[0m\n",
      "\u001b[34m[52]#011train-logloss:0.16156#011validation-logloss:0.26310\u001b[0m\n",
      "\u001b[34m[53]#011train-logloss:0.16156#011validation-logloss:0.26310\u001b[0m\n",
      "\u001b[34m[54]#011train-logloss:0.16156#011validation-logloss:0.26299\u001b[0m\n",
      "\u001b[34m[55]#011train-logloss:0.16156#011validation-logloss:0.26273\u001b[0m\n",
      "\u001b[34m[56]#011train-logloss:0.16156#011validation-logloss:0.26248\u001b[0m\n",
      "\u001b[34m[57]#011train-logloss:0.16156#011validation-logloss:0.26246\u001b[0m\n",
      "\u001b[34m[58]#011train-logloss:0.16161#011validation-logloss:0.26142\u001b[0m\n",
      "\u001b[34m[59]#011train-logloss:0.16159#011validation-logloss:0.26177\u001b[0m\n",
      "\u001b[34m[60]#011train-logloss:0.16156#011validation-logloss:0.26257\u001b[0m\n",
      "\u001b[34m[61]#011train-logloss:0.16156#011validation-logloss:0.26311\u001b[0m\n",
      "\u001b[34m[62]#011train-logloss:0.16156#011validation-logloss:0.26311\u001b[0m\n",
      "\u001b[34m[63]#011train-logloss:0.15804#011validation-logloss:0.26142\u001b[0m\n",
      "\u001b[34m[64]#011train-logloss:0.15802#011validation-logloss:0.26061\u001b[0m\n",
      "\u001b[34m[65]#011train-logloss:0.15803#011validation-logloss:0.26092\u001b[0m\n",
      "\u001b[34m[66]#011train-logloss:0.15803#011validation-logloss:0.26103\u001b[0m\n",
      "\u001b[34m[67]#011train-logloss:0.15804#011validation-logloss:0.26145\u001b[0m\n",
      "\u001b[34m[68]#011train-logloss:0.15805#011validation-logloss:0.26160\u001b[0m\n",
      "\u001b[34m[69]#011train-logloss:0.15807#011validation-logloss:0.26190\u001b[0m\n",
      "\u001b[34m[70]#011train-logloss:0.15804#011validation-logloss:0.26132\u001b[0m\n",
      "\u001b[34m[71]#011train-logloss:0.15804#011validation-logloss:0.26142\u001b[0m\n",
      "\u001b[34m[72]#011train-logloss:0.15804#011validation-logloss:0.26128\u001b[0m\n",
      "\u001b[34m[73]#011train-logloss:0.15804#011validation-logloss:0.26124\u001b[0m\n",
      "\u001b[34m[74]#011train-logloss:0.15803#011validation-logloss:0.26100\u001b[0m\n",
      "\u001b[34m[75]#011train-logloss:0.15803#011validation-logloss:0.26049\u001b[0m\n",
      "\u001b[34m[76]#011train-logloss:0.15708#011validation-logloss:0.26181\u001b[0m\n",
      "\u001b[34m[77]#011train-logloss:0.15493#011validation-logloss:0.26457\u001b[0m\n",
      "\u001b[34m[78]#011train-logloss:0.15493#011validation-logloss:0.26420\u001b[0m\n",
      "\u001b[34m[79]#011train-logloss:0.15492#011validation-logloss:0.26380\u001b[0m\n",
      "\u001b[34m[80]#011train-logloss:0.15492#011validation-logloss:0.26396\u001b[0m\n",
      "\u001b[34m[81]#011train-logloss:0.15492#011validation-logloss:0.26400\u001b[0m\n",
      "\u001b[34m[82]#011train-logloss:0.15493#011validation-logloss:0.26414\u001b[0m\n",
      "\u001b[34m[83]#011train-logloss:0.15493#011validation-logloss:0.26379\u001b[0m\n",
      "\u001b[34m[84]#011train-logloss:0.15435#011validation-logloss:0.26611\u001b[0m\n",
      "\u001b[34m[85]#011train-logloss:0.15436#011validation-logloss:0.26654\u001b[0m\n",
      "\u001b[34m[86]#011train-logloss:0.15436#011validation-logloss:0.26624\u001b[0m\n",
      "\u001b[34m[87]#011train-logloss:0.15436#011validation-logloss:0.26639\u001b[0m\n",
      "\u001b[34m[88]#011train-logloss:0.15435#011validation-logloss:0.26606\u001b[0m\n",
      "\u001b[34m[89]#011train-logloss:0.15435#011validation-logloss:0.26602\u001b[0m\n",
      "\u001b[34m[90]#011train-logloss:0.15435#011validation-logloss:0.26616\u001b[0m\n",
      "\u001b[34m[91]#011train-logloss:0.15435#011validation-logloss:0.26592\u001b[0m\n",
      "\u001b[34m[92]#011train-logloss:0.15435#011validation-logloss:0.26601\u001b[0m\n",
      "\u001b[34m[93]#011train-logloss:0.15233#011validation-logloss:0.26515\u001b[0m\n",
      "\u001b[34m[94]#011train-logloss:0.15233#011validation-logloss:0.26543\u001b[0m\n",
      "\u001b[34m[95]#011train-logloss:0.15003#011validation-logloss:0.26754\u001b[0m\n",
      "\u001b[34m[96]#011train-logloss:0.15003#011validation-logloss:0.26768\u001b[0m\n",
      "\u001b[34m[97]#011train-logloss:0.15003#011validation-logloss:0.26800\u001b[0m\n",
      "\u001b[34m[98]#011train-logloss:0.15003#011validation-logloss:0.26764\u001b[0m\n",
      "\u001b[34m[99]#011train-logloss:0.15006#011validation-logloss:0.26690\u001b[0m\n",
      "\n",
      "2024-07-31 22:08:45 Uploading - Uploading generated training model\n",
      "2024-07-31 22:08:45 Completed - Training job completed\n",
      "Training seconds: 120\n",
      "Billable seconds: 120\n"
     ]
    }
   ],
   "source": [
    "# Set hyperparameters\n",
    "xgb.set_hyperparameters(\n",
    "    max_depth=5,\n",
    "    eta=0.2,\n",
    "    gamma=4,\n",
    "    min_child_weight=6,\n",
    "    subsample=0.8,\n",
    "    verbosity=0,\n",
    "    objective=\"binary:logistic\",\n",
    "    num_round=100,\n",
    ")\n",
    "\n",
    "# Train the model\n",
    "xgb.fit({\"train\": s3_input_train, \"validation\": s3_input_validation})"
   ]
  },
  {
   "cell_type": "code",
   "execution_count": 53,
   "id": "44834de9-5909-42a3-b4d5-d7659a070817",
   "metadata": {},
   "outputs": [
    {
     "name": "stderr",
     "output_type": "stream",
     "text": [
      "INFO:sagemaker:Creating model with name: sagemaker-xgboost-2024-07-31-22-09-09-075\n",
      "INFO:sagemaker:Creating endpoint-config with name sagemaker-xgboost-2024-07-31-22-09-09-075\n",
      "INFO:sagemaker:Creating endpoint with name sagemaker-xgboost-2024-07-31-22-09-09-075\n"
     ]
    },
    {
     "name": "stdout",
     "output_type": "stream",
     "text": [
      "-------!Endpoint Name: sagemaker-xgboost-2024-07-31-22-09-09-075\n"
     ]
    }
   ],
   "source": [
    "# Deploy the model\n",
    "predictor = xgb.deploy(initial_instance_count=1, instance_type=\"ml.m4.xlarge\")\n",
    "\n",
    "# Print the endpoint name\n",
    "print(f\"Endpoint Name: {predictor.endpoint_name}\")"
   ]
  },
  {
   "cell_type": "code",
   "execution_count": 54,
   "id": "31b7d2e7-be3d-47fd-a0ea-98cce00fdf45",
   "metadata": {},
   "outputs": [
    {
     "name": "stdout",
     "output_type": "stream",
     "text": [
      "Endpoint URL: https://runtime.sagemaker.us-east-1.amazonaws.com/endpoints/sagemaker-xgboost-2024-07-31-22-09-09-075/invocations\n"
     ]
    }
   ],
   "source": [
    "# Get the endpoint URL\n",
    "sagemaker_client = boto3.client('sagemaker')\n",
    "endpoint_description = sagemaker_client.describe_endpoint(EndpointName=predictor.endpoint_name)\n",
    "endpoint_url = endpoint_description['EndpointConfigName']\n",
    "\n",
    "print(f\"Endpoint URL: https://runtime.sagemaker.{sess.boto_region_name}.amazonaws.com/endpoints/{predictor.endpoint_name}/invocations\")"
   ]
  },
  {
   "cell_type": "code",
   "execution_count": 59,
   "id": "2078f220-23d9-436f-8de1-6bd1f850814c",
   "metadata": {},
   "outputs": [
    {
     "data": {
      "text/plain": [
       "[{'score': 0.14405474066734314},\n",
       " {'score': 0.9774831533432007},\n",
       " {'score': 0.737284779548645},\n",
       " {'score': 0.7516846656799316},\n",
       " {'score': 0.01202067919075489}]"
      ]
     },
     "execution_count": 59,
     "metadata": {},
     "output_type": "execute_result"
    }
   ],
   "source": [
    "from sagemaker.serializers import CSVSerializer\n",
    "from sagemaker.deserializers import JSONDeserializer\n",
    "\n",
    "# Configure predictor to automatically handle CSV serialization and JSON deserialization\n",
    "predictor.serializer = CSVSerializer()\n",
    "predictor.deserializer = JSONDeserializer()\n",
    "\n",
    "# Prepare test data for prediction, excluding the label column\n",
    "test_data_array = test_data.values[:, 1:]  # Exclude the label column\n",
    "\n",
    "# Make predictions\n",
    "predictions = predictor.predict(test_data_array)\n",
    "predictions['predictions'][:5]"
   ]
  },
  {
   "cell_type": "code",
   "execution_count": 61,
   "id": "ec5b7058-1a35-4dd0-9ba0-3f4d457b789c",
   "metadata": {},
   "outputs": [
    {
     "data": {
      "text/plain": [
       "[0.14405474066734314,\n",
       " 0.9774831533432007,\n",
       " 0.737284779548645,\n",
       " 0.7516846656799316,\n",
       " 0.01202067919075489]"
      ]
     },
     "execution_count": 61,
     "metadata": {},
     "output_type": "execute_result"
    }
   ],
   "source": [
    "predictions_array = [x['score'] for x in predictions['predictions']]\n",
    "predictions_array[:5]"
   ]
  },
  {
   "cell_type": "code",
   "execution_count": 63,
   "id": "a617746d-5973-475d-ab82-0e242ee4ca9f",
   "metadata": {},
   "outputs": [
    {
     "data": {
      "text/plain": [
       "array([0, 1, 1, 1, 0])"
      ]
     },
     "execution_count": 63,
     "metadata": {},
     "output_type": "execute_result"
    }
   ],
   "source": [
    "# Convert predictions to binary class (assuming the response is a JSON that includes prediction probabilities)\n",
    "binary_predictions = (np.array(predictions_array) > 0.5).astype(int)\n",
    "binary_predictions[:5]"
   ]
  },
  {
   "cell_type": "code",
   "execution_count": 64,
   "id": "e15c2663-2f42-4489-a21a-a9c6d921df6e",
   "metadata": {},
   "outputs": [
    {
     "data": {
      "text/plain": [
       "array([0, 1, 1, 1, 0])"
      ]
     },
     "execution_count": 64,
     "metadata": {},
     "output_type": "execute_result"
    }
   ],
   "source": [
    "y_test[:5]"
   ]
  },
  {
   "cell_type": "code",
   "execution_count": 65,
   "id": "c15f5225-d8fe-4b8d-b1cf-d5b2fdbf7045",
   "metadata": {},
   "outputs": [
    {
     "name": "stdout",
     "output_type": "stream",
     "text": [
      "              precision    recall  f1-score   support\n",
      "\n",
      "           0       0.84      0.91      0.87        89\n",
      "           1       0.92      0.86      0.89       111\n",
      "\n",
      "    accuracy                           0.88       200\n",
      "   macro avg       0.88      0.88      0.88       200\n",
      "weighted avg       0.88      0.88      0.88       200\n",
      "\n"
     ]
    }
   ],
   "source": [
    "# Print classification report\n",
    "print(classification_report(y_test, binary_predictions))"
   ]
  },
  {
   "cell_type": "code",
   "execution_count": 66,
   "id": "7558a83d-03d3-4c18-85b7-1e8bcae34972",
   "metadata": {},
   "outputs": [
    {
     "name": "stderr",
     "output_type": "stream",
     "text": [
      "INFO:sagemaker:Deleting endpoint configuration with name: sagemaker-xgboost-2024-07-31-22-09-09-075\n",
      "INFO:sagemaker:Deleting endpoint with name: sagemaker-xgboost-2024-07-31-22-09-09-075\n"
     ]
    }
   ],
   "source": [
    "# Clean up\n",
    "predictor.delete_endpoint()"
   ]
  }
 ],
 "metadata": {
  "kernelspec": {
   "display_name": "Python 3 (ipykernel)",
   "language": "python",
   "name": "python3"
  },
  "language_info": {
   "codemirror_mode": {
    "name": "ipython",
    "version": 3
   },
   "file_extension": ".py",
   "mimetype": "text/x-python",
   "name": "python",
   "nbconvert_exporter": "python",
   "pygments_lexer": "ipython3",
   "version": "3.10.11"
  }
 },
 "nbformat": 4,
 "nbformat_minor": 5
}
